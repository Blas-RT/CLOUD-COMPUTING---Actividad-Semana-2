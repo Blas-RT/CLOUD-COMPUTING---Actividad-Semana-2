{
 "cells": [
  {
   "cell_type": "markdown",
   "metadata": {},
   "source": [
    "### Step 1: Set up the workspace"
   ]
  },
  {
   "cell_type": "code",
   "execution_count": 1,
   "metadata": {},
   "outputs": [
    {
     "name": "stdout",
     "output_type": "stream",
     "text": [
      "Deploying AppInsights with name class2insightsd9e7cfe532.\n",
      "Deployed AppInsights with name class2insightsd9e7cfe532. Took 4.84 seconds.\n",
      "Deploying StorageAccount with name class2storage50a0808fbe6.\n",
      "Deploying KeyVault with name class2keyvaulta82b61ac7c.\n",
      "Deployed KeyVault with name class2keyvaulta82b61ac7c. Took 21.76 seconds.\n",
      "Deployed StorageAccount with name class2storage50a0808fbe6. Took 30.31 seconds.\n",
      "Deploying Workspace with name Class2.\n",
      "Deployed Workspace with name Class2. Took 40.2 seconds.\n",
      "Registering model model\n"
     ]
    }
   ],
   "source": [
    "import json\n",
    "from azureml.core import Workspace\n",
    "from azureml.core.model import Model\n",
    "\n",
    "#GETTING MY ID:\n",
    "id = open('id_CONFIDENTIAL.json', 'r')\n",
    "mi = json.load(id)\n",
    "my_id = mi[\"my_id\"],\n",
    "\n",
    "ws = Workspace.create(name=\"Class2\",\n",
    "                      subscription_id = mi[\"my_id\"],\n",
    "                      resource_group = \"__hw1__\",\n",
    "                      location = \"centralindia\")\n",
    "\n",
    "mname = \"model\"\n",
    "registered_model = Model.register(model_path=\"random_forest_model.pkl\",\n",
    "                                  model_name=mname,\n",
    "                                  workspace=ws)"
   ]
  },
  {
   "cell_type": "markdown",
   "metadata": {},
   "source": [
    "################ score.py ###################\n",
    "scorepy = f\"\"\"\n",
    "import json\n",
    "import pandas as pd\n",
    "from azureml.core.model import Model\n",
    "\n",
    "def init():\n",
    "  global model\n",
    "  model_path = Model.get_model_path('{mname}')\n",
    "  model = joblib.load(model_path)\n",
    "\n",
    "def run(raw_data):\n",
    "    try: ## Try la predicción.\n",
    "        data = json.loads(raw_data)['data'][0]\n",
    "        data = pd.DataFrame(data)\n",
    "        \n",
    "        data_dummies = data.drop(selected_columns.json, axis=1)\n",
    "\n",
    "        result = model.predict(data_dummies).tolist()\n",
    "        return json.dumps(result)\n",
    "        except Exception as e:\n",
    "            return json.dumps(str(e))\n",
    "\"\"\"\n",
    "\n",
    "file_score = open(\"score.py\", \"w\")\n",
    "file_score.write(scorepy)\n",
    "file_score.close()"
   ]
  },
  {
   "cell_type": "code",
   "execution_count": null,
   "metadata": {},
   "outputs": [],
   "source": [
    "scorepy = f\"\"\"import json\n",
    "import pandas as pd\n",
    "import joblib\n",
    "from azureml.core.model import Model\n",
    "\n",
    "def init():\n",
    "    global model\n",
    "    global selected_columns\n",
    "\n",
    "    # Cargar el modelo registrado\n",
    "    model_path = Model.get_model_path('{mname}')  # Asegúrate que este sea el nombre correcto\n",
    "    model = joblib.load(model_path)\n",
    "\n",
    "    # Cargar las columnas seleccionadas\n",
    "    selected_columns_path = Model.get_model_path('selected_columns.json')\n",
    "    with open(selected_columns_path, 'r') as f:\n",
    "        selected_columns = json.load(f)\n",
    "\n",
    "def run(raw_data):\n",
    "    try:\n",
    "        # Convertir el string JSON a DataFrame\n",
    "        data_dict = json.loads(raw_data)\n",
    "        data = pd.DataFrame.from_dict(data_dict[\"data\"])\n",
    "\n",
    "        # Filtrar columnas esperadas por el modelo\n",
    "        data = data[selected_columns]\n",
    "\n",
    "        # Predecir\n",
    "        predictions = model.predict(data).tolist()\n",
    "\n",
    "        return json.dumps(\"predictions:\" predictions)\n",
    "    except Exception as e:\n",
    "        return json.dumps(\"error:\" str(e))\n",
    "\n",
    "\"\"\"\n",
    "\n",
    "file_score = open(\"score.py\", \"w\")\n",
    "file_score.write(scorepy)\n",
    "file_score.close()"
   ]
  },
  {
   "cell_type": "markdown",
   "metadata": {},
   "source": [
    "### Step 2: Inference configuration"
   ]
  },
  {
   "cell_type": "code",
   "execution_count": null,
   "metadata": {},
   "outputs": [
    {
     "name": "stderr",
     "output_type": "stream",
     "text": [
      "C:\\Users\\rodri\\AppData\\Local\\Temp\\ipykernel_11748\\1621776296.py:26: FutureWarning: azureml.core.model:\n",
      "To leverage new model deployment capabilities, AzureML recommends using CLI/SDK v2 to deploy models as online endpoint, \n",
      "please refer to respective documentations \n",
      "https://docs.microsoft.com/azure/machine-learning/how-to-deploy-managed-online-endpoints /\n",
      "https://docs.microsoft.com/azure/machine-learning/how-to-attach-kubernetes-anywhere \n",
      "For more information on migration, see https://aka.ms/acimoemigration \n",
      "To disable CLI/SDK v1 deprecation warning set AZUREML_LOG_DEPRECATION_WARNING_ENABLED to 'False'\n",
      "  service = Model.deploy(\n"
     ]
    }
   ],
   "source": [
    "from azureml.core.environment import Environment\n",
    "from azureml.core.conda_dependencies import CondaDependencies\n",
    "from azureml.core.model import InferenceConfig\n",
    "from azureml.core.webservice import AciWebservice, Webservice\n",
    "\n",
    "# Check if the service already exists\n",
    "service_name = 'service'\n",
    "if service_name in Webservice.list(ws):\n",
    "    existing_service = Webservice(ws, service_name)\n",
    "    existing_service.delete()  # Delete the existing service to avoid conflict\n",
    "\n",
    "# Create the environment\n",
    "virtual_env = Environment(\".venv\")\n",
    "virtual_env.python.conda_dependencies = CondaDependencies.create(\n",
    "    conda_packages=['pandas', 'joblib', 'azureml-defaults', 'scikit-learn']\n",
    ")  # Ensure to coordinate with the model team for correct packages\n",
    "\n",
    "# Configure inference and deployment\n",
    "inference_config = InferenceConfig(\n",
    "    environment=virtual_env,\n",
    "    entry_script=\"score.py\",\n",
    ")\n",
    "aci_config = AciWebservice.deploy_configuration(cpu_cores=0.5, memory_gb=1)  # Ensure sufficient resources\n",
    "\n",
    "# Deploy the model\n",
    "service = Model.deploy(\n",
    "    workspace=ws,\n",
    "    name=service_name,\n",
    "    models=[registered_model],\n",
    "    inference_config=inference_config,\n",
    "    deployment_config=aci_config,\n",
    "    overwrite=True,\n",
    ")"
   ]
  },
  {
   "cell_type": "code",
   "execution_count": 7,
   "metadata": {},
   "outputs": [
    {
     "name": "stderr",
     "output_type": "stream",
     "text": [
      "Service deployment polling reached non-successful terminal state, current service state: Unhealthy\n",
      "Operation ID: aeeecb87-125e-4e82-afc1-4648ff0596e5\n",
      "More information can be found here: \n",
      "Error:\n",
      "{\n",
      "  \"code\": \"EnvironmentBuildFailed\",\n",
      "  \"statusCode\": 400,\n",
      "  \"message\": \"Failed building the Environment. You can try debugging locally first. Please refer to https://aka.ms/debugimage#debug-locally for more information.\"\n",
      "}\n",
      "\n"
     ]
    },
    {
     "ename": "WebserviceException",
     "evalue": "WebserviceException:\n\tMessage: Service deployment polling reached non-successful terminal state, current service state: Unhealthy\nOperation ID: aeeecb87-125e-4e82-afc1-4648ff0596e5\nMore information can be found here: \nError:\n{\n  \"code\": \"EnvironmentBuildFailed\",\n  \"statusCode\": 400,\n  \"message\": \"Failed building the Environment. You can try debugging locally first. Please refer to https://aka.ms/debugimage#debug-locally for more information.\"\n}\n\tInnerException None\n\tErrorResponse \n{\n    \"error\": {\n        \"message\": \"Service deployment polling reached non-successful terminal state, current service state: Unhealthy\\nOperation ID: aeeecb87-125e-4e82-afc1-4648ff0596e5\\nMore information can be found here: \\nError:\\n{\\n  \\\"code\\\": \\\"EnvironmentBuildFailed\\\",\\n  \\\"statusCode\\\": 400,\\n  \\\"message\\\": \\\"Failed building the Environment. You can try debugging locally first. Please refer to https://aka.ms/debugimage#debug-locally for more information.\\\"\\n}\"\n    }\n}",
     "output_type": "error",
     "traceback": [
      "\u001b[1;31m---------------------------------------------------------------------------\u001b[0m",
      "\u001b[1;31mWebserviceException\u001b[0m                       Traceback (most recent call last)",
      "Cell \u001b[1;32mIn[7], line 1\u001b[0m\n\u001b[1;32m----> 1\u001b[0m \u001b[43mservice\u001b[49m\u001b[38;5;241;43m.\u001b[39;49m\u001b[43mwait_for_deployment\u001b[49m\u001b[43m(\u001b[49m\u001b[43m)\u001b[49m\n\u001b[0;32m      3\u001b[0m scoring_uri \u001b[38;5;241m=\u001b[39m service\u001b[38;5;241m.\u001b[39mscoring_uri\n\u001b[0;32m      5\u001b[0m scoreuri \u001b[38;5;241m=\u001b[39m json\u001b[38;5;241m.\u001b[39mdumps({\u001b[38;5;124m\"\u001b[39m\u001b[38;5;124mURI\u001b[39m\u001b[38;5;124m\"\u001b[39m: [scoring_uri]})\n",
      "File \u001b[1;32mc:\\Users\\rodri\\Documents\\Proyectos\\Cloud\\Clase2\\CLOUD-COMPUTING.Actividad-Semana-2\\.venv\\lib\\site-packages\\azureml\\core\\webservice\\webservice.py:910\u001b[0m, in \u001b[0;36mWebservice.wait_for_deployment\u001b[1;34m(self, show_output, timeout_sec)\u001b[0m\n\u001b[0;32m    907\u001b[0m         \u001b[38;5;28;01mif\u001b[39;00m \u001b[38;5;129;01mnot\u001b[39;00m logs_response:\n\u001b[0;32m    908\u001b[0m             logs_response \u001b[38;5;241m=\u001b[39m \u001b[38;5;124m'\u001b[39m\u001b[38;5;124mCurrent sub-operation type not known, more logs unavailable.\u001b[39m\u001b[38;5;124m'\u001b[39m\n\u001b[1;32m--> 910\u001b[0m         \u001b[38;5;28;01mraise\u001b[39;00m WebserviceException(\u001b[38;5;124m'\u001b[39m\u001b[38;5;124mService deployment polling reached non-successful terminal state, current \u001b[39m\u001b[38;5;124m'\u001b[39m\n\u001b[0;32m    911\u001b[0m                                   \u001b[38;5;124m'\u001b[39m\u001b[38;5;124mservice state: \u001b[39m\u001b[38;5;132;01m{}\u001b[39;00m\u001b[38;5;130;01m\\n\u001b[39;00m\u001b[38;5;124m'\u001b[39m\n\u001b[0;32m    912\u001b[0m                                   \u001b[38;5;124m'\u001b[39m\u001b[38;5;124mOperation ID: \u001b[39m\u001b[38;5;132;01m{}\u001b[39;00m\u001b[38;5;130;01m\\n\u001b[39;00m\u001b[38;5;124m'\u001b[39m\n\u001b[0;32m    913\u001b[0m                                   \u001b[38;5;124m'\u001b[39m\u001b[38;5;132;01m{}\u001b[39;00m\u001b[38;5;130;01m\\n\u001b[39;00m\u001b[38;5;124m'\u001b[39m\n\u001b[0;32m    914\u001b[0m                                   \u001b[38;5;124m'\u001b[39m\u001b[38;5;124mError:\u001b[39m\u001b[38;5;130;01m\\n\u001b[39;00m\u001b[38;5;124m'\u001b[39m\n\u001b[0;32m    915\u001b[0m                                   \u001b[38;5;124m'\u001b[39m\u001b[38;5;132;01m{}\u001b[39;00m\u001b[38;5;124m'\u001b[39m\u001b[38;5;241m.\u001b[39mformat(\u001b[38;5;28mself\u001b[39m\u001b[38;5;241m.\u001b[39mstate, \u001b[38;5;28mself\u001b[39m\u001b[38;5;241m.\u001b[39m_operation_endpoint\u001b[38;5;241m.\u001b[39msplit(\u001b[38;5;124m'\u001b[39m\u001b[38;5;124m/\u001b[39m\u001b[38;5;124m'\u001b[39m)[\u001b[38;5;241m-\u001b[39m\u001b[38;5;241m1\u001b[39m],\n\u001b[0;32m    916\u001b[0m                                               logs_response, format_error_response), logger\u001b[38;5;241m=\u001b[39mmodule_logger)\n\u001b[0;32m    917\u001b[0m     \u001b[38;5;28mprint\u001b[39m(\u001b[38;5;124m'\u001b[39m\u001b[38;5;132;01m{}\u001b[39;00m\u001b[38;5;124m service creation operation finished, operation \u001b[39m\u001b[38;5;124m\"\u001b[39m\u001b[38;5;132;01m{}\u001b[39;00m\u001b[38;5;124m\"\u001b[39m\u001b[38;5;124m'\u001b[39m\u001b[38;5;241m.\u001b[39mformat(\u001b[38;5;28mself\u001b[39m\u001b[38;5;241m.\u001b[39m_webservice_type,\n\u001b[0;32m    918\u001b[0m                                                                           operation_state))\n\u001b[0;32m    919\u001b[0m \u001b[38;5;28;01mexcept\u001b[39;00m WebserviceException \u001b[38;5;28;01mas\u001b[39;00m e:\n",
      "\u001b[1;31mWebserviceException\u001b[0m: WebserviceException:\n\tMessage: Service deployment polling reached non-successful terminal state, current service state: Unhealthy\nOperation ID: aeeecb87-125e-4e82-afc1-4648ff0596e5\nMore information can be found here: \nError:\n{\n  \"code\": \"EnvironmentBuildFailed\",\n  \"statusCode\": 400,\n  \"message\": \"Failed building the Environment. You can try debugging locally first. Please refer to https://aka.ms/debugimage#debug-locally for more information.\"\n}\n\tInnerException None\n\tErrorResponse \n{\n    \"error\": {\n        \"message\": \"Service deployment polling reached non-successful terminal state, current service state: Unhealthy\\nOperation ID: aeeecb87-125e-4e82-afc1-4648ff0596e5\\nMore information can be found here: \\nError:\\n{\\n  \\\"code\\\": \\\"EnvironmentBuildFailed\\\",\\n  \\\"statusCode\\\": 400,\\n  \\\"message\\\": \\\"Failed building the Environment. You can try debugging locally first. Please refer to https://aka.ms/debugimage#debug-locally for more information.\\\"\\n}\"\n    }\n}"
     ]
    }
   ],
   "source": [
    "service.wait_for_deployment()\n",
    "\n",
    "scoring_uri = service.scoring_uri\n",
    "\n",
    "scoreuri = json.dumps({\"URI\": [scoring_uri]})\n",
    "file = open(\"uri.json\", \"w\")\n",
    "file.write(scoreuri)\n",
    "file.close()"
   ]
  }
 ],
 "metadata": {
  "kernelspec": {
   "display_name": ".venv",
   "language": "python",
   "name": "python3"
  },
  "language_info": {
   "codemirror_mode": {
    "name": "ipython",
    "version": 3
   },
   "file_extension": ".py",
   "mimetype": "text/x-python",
   "name": "python",
   "nbconvert_exporter": "python",
   "pygments_lexer": "ipython3",
   "version": "3.10.12"
  }
 },
 "nbformat": 4,
 "nbformat_minor": 2
}
