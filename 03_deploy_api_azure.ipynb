{
 "cells": [
  {
   "cell_type": "markdown",
   "metadata": {},
   "source": [
    "### Step 1: Set up the workspace"
   ]
  },
  {
   "cell_type": "code",
   "execution_count": 5,
   "metadata": {},
   "outputs": [
    {
     "ename": "AttributeError",
     "evalue": "'tuple' object has no attribute 'lower'",
     "output_type": "error",
     "traceback": [
      "\u001b[1;31m---------------------------------------------------------------------------\u001b[0m",
      "\u001b[1;31mAttributeError\u001b[0m                            Traceback (most recent call last)",
      "Cell \u001b[1;32mIn[5], line 10\u001b[0m\n\u001b[0;32m      6\u001b[0m my_id \u001b[38;5;241m=\u001b[39m mi[\u001b[38;5;124m\"\u001b[39m\u001b[38;5;124mazure_id\u001b[39m\u001b[38;5;124m\"\u001b[39m],\n\u001b[0;32m      8\u001b[0m \u001b[38;5;28;01mfrom\u001b[39;00m\u001b[38;5;250m \u001b[39m\u001b[38;5;21;01mazureml\u001b[39;00m\u001b[38;5;21;01m.\u001b[39;00m\u001b[38;5;21;01mcore\u001b[39;00m\u001b[38;5;250m \u001b[39m\u001b[38;5;28;01mimport\u001b[39;00m Workspace\n\u001b[1;32m---> 10\u001b[0m ws \u001b[38;5;241m=\u001b[39m \u001b[43mWorkspace\u001b[49m\u001b[38;5;241;43m.\u001b[39;49m\u001b[43mcreate\u001b[49m\u001b[43m(\u001b[49m\u001b[43mname\u001b[49m\u001b[38;5;241;43m=\u001b[39;49m\u001b[38;5;124;43m\"\u001b[39;49m\u001b[38;5;124;43mClass2\u001b[39;49m\u001b[38;5;124;43m\"\u001b[39;49m\u001b[43m,\u001b[49m\n\u001b[0;32m     11\u001b[0m \u001b[43m                      \u001b[49m\u001b[43msubscription_id\u001b[49m\u001b[43m \u001b[49m\u001b[38;5;241;43m=\u001b[39;49m\u001b[43m \u001b[49m\u001b[43mmy_id\u001b[49m\u001b[43m,\u001b[49m\n\u001b[0;32m     12\u001b[0m \u001b[43m                      \u001b[49m\u001b[43mresource_group\u001b[49m\u001b[43m \u001b[49m\u001b[38;5;241;43m=\u001b[39;49m\u001b[43m \u001b[49m\u001b[38;5;124;43m\"\u001b[39;49m\u001b[38;5;124;43m__hw1__\u001b[39;49m\u001b[38;5;124;43m\"\u001b[39;49m\u001b[43m,\u001b[49m\n\u001b[0;32m     13\u001b[0m \u001b[43m                      \u001b[49m\u001b[43mlocation\u001b[49m\u001b[43m \u001b[49m\u001b[38;5;241;43m=\u001b[39;49m\u001b[43m \u001b[49m\u001b[38;5;124;43m\"\u001b[39;49m\u001b[38;5;124;43mcentralindia\u001b[39;49m\u001b[38;5;124;43m\"\u001b[39;49m\u001b[43m)\u001b[49m\n\u001b[0;32m     15\u001b[0m \u001b[38;5;28;01mfrom\u001b[39;00m\u001b[38;5;250m \u001b[39m\u001b[38;5;21;01mazureml\u001b[39;00m\u001b[38;5;21;01m.\u001b[39;00m\u001b[38;5;21;01mcore\u001b[39;00m\u001b[38;5;21;01m.\u001b[39;00m\u001b[38;5;21;01mmodel\u001b[39;00m\u001b[38;5;250m \u001b[39m\u001b[38;5;28;01mimport\u001b[39;00m Model\n\u001b[0;32m     17\u001b[0m mname \u001b[38;5;241m=\u001b[39m \u001b[38;5;124m\"\u001b[39m\u001b[38;5;124mmodel\u001b[39m\u001b[38;5;124m\"\u001b[39m\n",
      "File \u001b[1;32mc:\\Users\\david\\Documents\\CLOUD-COMPUTING.Actividad-Semana-2\\.venv\\lib\\site-packages\\azureml\\core\\workspace.py:516\u001b[0m, in \u001b[0;36mWorkspace.create\u001b[1;34m(name, auth, subscription_id, resource_group, location, create_resource_group, sku, tags, friendly_name, storage_account, key_vault, app_insights, container_registry, adb_workspace, primary_user_assigned_identity, cmk_keyvault, resource_cmk_uri, hbi_workspace, default_cpu_compute_target, default_gpu_compute_target, private_endpoint_config, private_endpoint_auto_approval, exist_ok, show_output, user_assigned_identity_for_cmk_encryption, system_datastores_auth_mode, v1_legacy_mode)\u001b[0m\n\u001b[0;32m    512\u001b[0m     resource_group \u001b[38;5;241m=\u001b[39m Workspace\u001b[38;5;241m.\u001b[39m_get_resource_name_from_workspace_name(\n\u001b[0;32m    513\u001b[0m         name, \u001b[38;5;124m\"\u001b[39m\u001b[38;5;124mresource_group\u001b[39m\u001b[38;5;124m\"\u001b[39m)\n\u001b[0;32m    515\u001b[0m \u001b[38;5;28;01mif\u001b[39;00m location:\n\u001b[1;32m--> 516\u001b[0m     available_locations \u001b[38;5;241m=\u001b[39m \u001b[43m_available_workspace_locations\u001b[49m\u001b[43m(\u001b[49m\n\u001b[0;32m    517\u001b[0m \u001b[43m        \u001b[49m\u001b[43msubscription_id\u001b[49m\u001b[43m,\u001b[49m\u001b[43m \u001b[49m\u001b[43mauth\u001b[49m\u001b[43m)\u001b[49m\n\u001b[0;32m    518\u001b[0m     available_locations \u001b[38;5;241m=\u001b[39m [x\u001b[38;5;241m.\u001b[39mlower()\u001b[38;5;241m.\u001b[39mreplace(\u001b[38;5;124m'\u001b[39m\u001b[38;5;124m \u001b[39m\u001b[38;5;124m'\u001b[39m, \u001b[38;5;124m'\u001b[39m\u001b[38;5;124m'\u001b[39m)\n\u001b[0;32m    519\u001b[0m                            \u001b[38;5;28;01mfor\u001b[39;00m x \u001b[38;5;129;01min\u001b[39;00m available_locations]\n\u001b[0;32m    520\u001b[0m     location \u001b[38;5;241m=\u001b[39m location\u001b[38;5;241m.\u001b[39mlower()\u001b[38;5;241m.\u001b[39mreplace(\u001b[38;5;124m'\u001b[39m\u001b[38;5;124m \u001b[39m\u001b[38;5;124m'\u001b[39m, \u001b[38;5;124m'\u001b[39m\u001b[38;5;124m'\u001b[39m)\n",
      "File \u001b[1;32mc:\\Users\\david\\Documents\\CLOUD-COMPUTING.Actividad-Semana-2\\.venv\\lib\\site-packages\\azureml\\core\\workspace.py:2087\u001b[0m, in \u001b[0;36m_available_workspace_locations\u001b[1;34m(subscription_id, auth)\u001b[0m\n\u001b[0;32m   2085\u001b[0m \u001b[38;5;28;01mif\u001b[39;00m \u001b[38;5;129;01mnot\u001b[39;00m auth:\n\u001b[0;32m   2086\u001b[0m     auth \u001b[38;5;241m=\u001b[39m InteractiveLoginAuthentication()\n\u001b[1;32m-> 2087\u001b[0m \u001b[38;5;28;01mreturn\u001b[39;00m \u001b[43m_commands\u001b[49m\u001b[38;5;241;43m.\u001b[39;49m\u001b[43mavailable_workspace_locations\u001b[49m\u001b[43m(\u001b[49m\u001b[43mauth\u001b[49m\u001b[43m,\u001b[49m\u001b[43m \u001b[49m\u001b[43msubscription_id\u001b[49m\u001b[43m)\u001b[49m\n",
      "File \u001b[1;32mc:\\Users\\david\\Documents\\CLOUD-COMPUTING.Actividad-Semana-2\\.venv\\lib\\site-packages\\azureml\\_project\\_commands.py:429\u001b[0m, in \u001b[0;36mavailable_workspace_locations\u001b[1;34m(auth, subscription_id)\u001b[0m\n\u001b[0;32m    420\u001b[0m \u001b[38;5;28;01mdef\u001b[39;00m\u001b[38;5;250m \u001b[39m\u001b[38;5;21mavailable_workspace_locations\u001b[39m(auth, subscription_id):\n\u001b[0;32m    421\u001b[0m \u001b[38;5;250m    \u001b[39m\u001b[38;5;124;03m\"\"\"Lists available locations/azure regions where an azureml workspace can be created.\u001b[39;00m\n\u001b[0;32m    422\u001b[0m \u001b[38;5;124;03m    :param auth: Authentication object.\u001b[39;00m\n\u001b[0;32m    423\u001b[0m \u001b[38;5;124;03m    :type auth: azureml.core.authentication.AbstractAuthentication\u001b[39;00m\n\u001b[1;32m   (...)\u001b[0m\n\u001b[0;32m    427\u001b[0m \u001b[38;5;124;03m    :rtype: list[str]\u001b[39;00m\n\u001b[0;32m    428\u001b[0m \u001b[38;5;124;03m    \"\"\"\u001b[39;00m\n\u001b[1;32m--> 429\u001b[0m     response \u001b[38;5;241m=\u001b[39m \u001b[43mauth\u001b[49m\u001b[38;5;241;43m.\u001b[39;49m\u001b[43m_get_service_client\u001b[49m\u001b[43m(\u001b[49m\u001b[43mResourceManagementClient\u001b[49m\u001b[43m,\u001b[49m\u001b[43m \u001b[49m\u001b[43msubscription_id\u001b[49m\u001b[43m)\u001b[49m\u001b[38;5;241m.\u001b[39mproviders\u001b[38;5;241m.\u001b[39mget(\n\u001b[0;32m    430\u001b[0m         \u001b[38;5;124m\"\u001b[39m\u001b[38;5;124mMicrosoft.MachineLearningServices\u001b[39m\u001b[38;5;124m\"\u001b[39m)\n\u001b[0;32m    431\u001b[0m     \u001b[38;5;28;01mfor\u001b[39;00m resource_type \u001b[38;5;129;01min\u001b[39;00m response\u001b[38;5;241m.\u001b[39mresource_types:\n\u001b[0;32m    432\u001b[0m         \u001b[38;5;66;03m# There are multiple resource types like workspaces, 'workspaces/computes', 'operations' and some more.\u001b[39;00m\n\u001b[0;32m    433\u001b[0m         \u001b[38;5;66;03m# All return the same set of locations.\u001b[39;00m\n\u001b[0;32m    434\u001b[0m         \u001b[38;5;28;01mif\u001b[39;00m resource_type\u001b[38;5;241m.\u001b[39mresource_type \u001b[38;5;241m==\u001b[39m \u001b[38;5;124m\"\u001b[39m\u001b[38;5;124mworkspaces\u001b[39m\u001b[38;5;124m\"\u001b[39m:\n",
      "File \u001b[1;32mc:\\Users\\david\\Documents\\CLOUD-COMPUTING.Actividad-Semana-2\\.venv\\lib\\site-packages\\azureml\\core\\authentication.py:230\u001b[0m, in \u001b[0;36mAbstractAuthentication._get_service_client\u001b[1;34m(self, client_class, subscription_id, subscription_bound, base_url, is_check_subscription)\u001b[0m\n\u001b[0;32m    228\u001b[0m \u001b[38;5;28;01mif\u001b[39;00m subscription_id \u001b[38;5;129;01mand\u001b[39;00m is_check_subscription:\n\u001b[0;32m    229\u001b[0m     all_subscription_list, tenant_id \u001b[38;5;241m=\u001b[39m \u001b[38;5;28mself\u001b[39m\u001b[38;5;241m.\u001b[39m_get_all_subscription_ids()\n\u001b[1;32m--> 230\u001b[0m     \u001b[38;5;28;43mself\u001b[39;49m\u001b[38;5;241;43m.\u001b[39;49m\u001b[43m_check_if_subscription_exists\u001b[49m\u001b[43m(\u001b[49m\u001b[43msubscription_id\u001b[49m\u001b[43m,\u001b[49m\u001b[43m \u001b[49m\u001b[43mall_subscription_list\u001b[49m\u001b[43m,\u001b[49m\u001b[43m \u001b[49m\u001b[43mtenant_id\u001b[49m\u001b[43m)\u001b[49m\n\u001b[0;32m    232\u001b[0m \u001b[38;5;28;01mif\u001b[39;00m \u001b[38;5;129;01mnot\u001b[39;00m base_url:\n\u001b[0;32m    233\u001b[0m     base_url \u001b[38;5;241m=\u001b[39m \u001b[38;5;28mself\u001b[39m\u001b[38;5;241m.\u001b[39m_cloud_type\u001b[38;5;241m.\u001b[39mendpoints\u001b[38;5;241m.\u001b[39mresource_manager\n",
      "File \u001b[1;32mc:\\Users\\david\\Documents\\CLOUD-COMPUTING.Actividad-Semana-2\\.venv\\lib\\site-packages\\azureml\\core\\authentication.py:681\u001b[0m, in \u001b[0;36mInteractiveLoginAuthentication._check_if_subscription_exists\u001b[1;34m(self, subscription_id, subscription_id_list, tenant_id)\u001b[0m\n\u001b[0;32m    680\u001b[0m \u001b[38;5;28;01mdef\u001b[39;00m\u001b[38;5;250m \u001b[39m\u001b[38;5;21m_check_if_subscription_exists\u001b[39m(\u001b[38;5;28mself\u001b[39m, subscription_id, subscription_id_list, tenant_id):\n\u001b[1;32m--> 681\u001b[0m     \u001b[38;5;28;43msuper\u001b[39;49m\u001b[43m(\u001b[49m\u001b[43mInteractiveLoginAuthentication\u001b[49m\u001b[43m,\u001b[49m\u001b[43m \u001b[49m\u001b[38;5;28;43mself\u001b[39;49m\u001b[43m)\u001b[49m\u001b[38;5;241;43m.\u001b[39;49m\u001b[43m_check_if_subscription_exists\u001b[49m\u001b[43m(\u001b[49m\u001b[43msubscription_id\u001b[49m\u001b[43m,\u001b[49m\n\u001b[0;32m    682\u001b[0m \u001b[43m                                                                              \u001b[49m\u001b[43msubscription_id_list\u001b[49m\u001b[43m,\u001b[49m\u001b[43m \u001b[49m\u001b[43mtenant_id\u001b[49m\u001b[43m)\u001b[49m\n",
      "File \u001b[1;32mc:\\Users\\david\\Documents\\CLOUD-COMPUTING.Actividad-Semana-2\\.venv\\lib\\site-packages\\azureml\\core\\authentication.py:327\u001b[0m, in \u001b[0;36mAbstractAuthentication._check_if_subscription_exists\u001b[1;34m(self, subscription_id, subscription_id_list, tenant_id)\u001b[0m\n\u001b[0;32m    325\u001b[0m name_matched \u001b[38;5;241m=\u001b[39m \u001b[38;5;28;01mFalse\u001b[39;00m\n\u001b[0;32m    326\u001b[0m \u001b[38;5;28;01mfor\u001b[39;00m subscription_info \u001b[38;5;129;01min\u001b[39;00m subscription_id_list:\n\u001b[1;32m--> 327\u001b[0m     \u001b[38;5;28;01mif\u001b[39;00m subscription_info\u001b[38;5;241m.\u001b[39msubscription_id\u001b[38;5;241m.\u001b[39mlower()\u001b[38;5;241m.\u001b[39mstrip() \u001b[38;5;241m==\u001b[39m \u001b[43msubscription_id\u001b[49m\u001b[38;5;241;43m.\u001b[39;49m\u001b[43mlower\u001b[49m()\u001b[38;5;241m.\u001b[39mstrip():\n\u001b[0;32m    328\u001b[0m         \u001b[38;5;28;01mreturn\u001b[39;00m \u001b[38;5;28;01mTrue\u001b[39;00m\n\u001b[0;32m    329\u001b[0m     \u001b[38;5;28;01mif\u001b[39;00m subscription_info\u001b[38;5;241m.\u001b[39msubscription_name\u001b[38;5;241m.\u001b[39mlower()\u001b[38;5;241m.\u001b[39mstrip() \u001b[38;5;241m==\u001b[39m subscription_id\u001b[38;5;241m.\u001b[39mlower()\u001b[38;5;241m.\u001b[39mstrip():\n",
      "\u001b[1;31mAttributeError\u001b[0m: 'tuple' object has no attribute 'lower'"
     ]
    }
   ],
   "source": [
    "import json\n",
    "from azureml.core import Workspace\n",
    "from azureml.core.model import Model\n",
    "\n",
    "#GETTING MY ID:\n",
    "id = open('id_confidential_david.json', 'r')\n",
    "mi = json.load(id)\n",
    "my_id = mi[\"azure_id\"]\n",
    "\n",
    "from azureml.core import Workspace\n",
    "\n",
    "ws = Workspace.create(name=\"Class2\",\n",
    "                      subscription_id = my_id,\n",
    "                      resource_group = \"__hw1__\",\n",
    "                      location = \"centralindia\")\n",
    "\n",
    "mname = \"model\"\n",
    "registered_model = Model.register(model_path=\"random_forest_model.pkl\",\n",
    "                                  model_name=mname,\n",
    "                                  workspace=ws)"
   ]
  },
  {
   "cell_type": "markdown",
   "metadata": {},
   "source": [
    "################ score.py ###################\n",
    "scorepy = f\"\"\"\n",
    "import json\n",
    "import pandas as pd\n",
    "from azureml.core.model import Model\n",
    "\n",
    "def init():\n",
    "  global model\n",
    "  model_path = Model.get_model_path('{mname}')\n",
    "  model = joblib.load(model_path)\n",
    "\n",
    "def run(raw_data):\n",
    "    try: ## Try la predicción.\n",
    "        data = json.loads(raw_data)['data'][0]\n",
    "        data = pd.DataFrame(data)\n",
    "        \n",
    "        data_dummies = data.drop(selected_columns.json, axis=1)\n",
    "\n",
    "        result = model.predict(data_dummies).tolist()\n",
    "        return json.dumps(result)\n",
    "        except Exception as e:\n",
    "            return json.dumps(str(e))\n",
    "\"\"\"\n",
    "\n",
    "file_score = open(\"score.py\", \"w\")\n",
    "file_score.write(scorepy)\n",
    "file_score.close()"
   ]
  },
  {
   "cell_type": "code",
   "execution_count": null,
   "metadata": {},
   "outputs": [],
   "source": [
    "scorepy = f\"\"\"import json\n",
    "import pandas as pd\n",
    "import joblib\n",
    "from azureml.core.model import Model\n",
    "\n",
    "def init():\n",
    "    global model\n",
    "    global selected_columns\n",
    "\n",
    "    # Cargar el modelo registrado\n",
    "    model_path = Model.get_model_path('{mname}')  # Asegúrate que este sea el nombre correcto\n",
    "    model = joblib.load(model_path)\n",
    "\n",
    "    # Cargar las columnas seleccionadas\n",
    "    selected_columns_path = Model.get_model_path('selected_columns.json')\n",
    "    with open(selected_columns_path, 'r') as f:\n",
    "        selected_columns = json.load(f)\n",
    "\n",
    "def run(raw_data):\n",
    "    try:\n",
    "        # Convertir el string JSON a DataFrame\n",
    "        data_dict = json.loads(raw_data)\n",
    "        data = pd.DataFrame.from_dict(data_dict[\"data\"])\n",
    "\n",
    "        # Filtrar columnas esperadas por el modelo\n",
    "        data = data[selected_columns]\n",
    "\n",
    "        # Predecir\n",
    "        predictions = model.predict(data).tolist()\n",
    "\n",
    "        return json.dumps({\"predictions\": predictions})\n",
    "    except Exception as e:\n",
    "        return json.dumps({\"error\": str(e)})\n",
    "\n",
    "\"\"\"\n",
    "\n",
    "file_score = open(\"score.py\", \"w\")\n",
    "file_score.write(scorepy)\n",
    "file_score.close()"
   ]
  },
  {
   "cell_type": "markdown",
   "metadata": {},
   "source": [
    "### Step 2: Inference configuration"
   ]
  },
  {
   "cell_type": "code",
   "execution_count": null,
   "metadata": {},
   "outputs": [
    {
     "name": "stderr",
     "output_type": "stream",
     "text": [
      "C:\\Users\\rodri\\AppData\\Local\\Temp\\ipykernel_11748\\1621776296.py:26: FutureWarning: azureml.core.model:\n",
      "To leverage new model deployment capabilities, AzureML recommends using CLI/SDK v2 to deploy models as online endpoint, \n",
      "please refer to respective documentations \n",
      "https://docs.microsoft.com/azure/machine-learning/how-to-deploy-managed-online-endpoints /\n",
      "https://docs.microsoft.com/azure/machine-learning/how-to-attach-kubernetes-anywhere \n",
      "For more information on migration, see https://aka.ms/acimoemigration \n",
      "To disable CLI/SDK v1 deprecation warning set AZUREML_LOG_DEPRECATION_WARNING_ENABLED to 'False'\n",
      "  service = Model.deploy(\n"
     ]
    }
   ],
   "source": [
    "from azureml.core.environment import Environment\n",
    "from azureml.core.conda_dependencies import CondaDependencies\n",
    "from azureml.core.model import InferenceConfig\n",
    "from azureml.core.webservice import AciWebservice, Webservice\n",
    "\n",
    "# Check if the service already exists\n",
    "service_name = 'service'\n",
    "if service_name in Webservice.list(ws):\n",
    "    existing_service = Webservice(ws, service_name)\n",
    "    existing_service.delete()  # Delete the existing service to avoid conflict\n",
    "\n",
    "# Create the environment\n",
    "virtual_env = Environment(\".venv\")\n",
    "virtual_env.python.conda_dependencies = CondaDependencies.create(\n",
    "    conda_packages=['pandas', 'joblib', 'azureml-defaults', 'scikit-learn']\n",
    ")  # Ensure to coordinate with the model team for correct packages\n",
    "\n",
    "# Configure inference and deployment\n",
    "inference_config = InferenceConfig(\n",
    "    environment=virtual_env,\n",
    "    entry_script=\"score.py\",\n",
    ")\n",
    "aci_config = AciWebservice.deploy_configuration(cpu_cores=0.5, memory_gb=1)  # Ensure sufficient resources\n",
    "\n",
    "# Deploy the model\n",
    "service = Model.deploy(\n",
    "    workspace=ws,\n",
    "    name=service_name,\n",
    "    models=[registered_model],\n",
    "    inference_config=inference_config,\n",
    "    deployment_config=aci_config,\n",
    "    overwrite=True,\n",
    ")"
   ]
  },
  {
   "cell_type": "code",
   "execution_count": 7,
   "metadata": {},
   "outputs": [
    {
     "name": "stderr",
     "output_type": "stream",
     "text": [
      "Service deployment polling reached non-successful terminal state, current service state: Unhealthy\n",
      "Operation ID: aeeecb87-125e-4e82-afc1-4648ff0596e5\n",
      "More information can be found here: \n",
      "Error:\n",
      "{\n",
      "  \"code\": \"EnvironmentBuildFailed\",\n",
      "  \"statusCode\": 400,\n",
      "  \"message\": \"Failed building the Environment. You can try debugging locally first. Please refer to https://aka.ms/debugimage#debug-locally for more information.\"\n",
      "}\n",
      "\n"
     ]
    },
    {
     "ename": "WebserviceException",
     "evalue": "WebserviceException:\n\tMessage: Service deployment polling reached non-successful terminal state, current service state: Unhealthy\nOperation ID: aeeecb87-125e-4e82-afc1-4648ff0596e5\nMore information can be found here: \nError:\n{\n  \"code\": \"EnvironmentBuildFailed\",\n  \"statusCode\": 400,\n  \"message\": \"Failed building the Environment. You can try debugging locally first. Please refer to https://aka.ms/debugimage#debug-locally for more information.\"\n}\n\tInnerException None\n\tErrorResponse \n{\n    \"error\": {\n        \"message\": \"Service deployment polling reached non-successful terminal state, current service state: Unhealthy\\nOperation ID: aeeecb87-125e-4e82-afc1-4648ff0596e5\\nMore information can be found here: \\nError:\\n{\\n  \\\"code\\\": \\\"EnvironmentBuildFailed\\\",\\n  \\\"statusCode\\\": 400,\\n  \\\"message\\\": \\\"Failed building the Environment. You can try debugging locally first. Please refer to https://aka.ms/debugimage#debug-locally for more information.\\\"\\n}\"\n    }\n}",
     "output_type": "error",
     "traceback": [
      "\u001b[1;31m---------------------------------------------------------------------------\u001b[0m",
      "\u001b[1;31mWebserviceException\u001b[0m                       Traceback (most recent call last)",
      "Cell \u001b[1;32mIn[7], line 1\u001b[0m\n\u001b[1;32m----> 1\u001b[0m \u001b[43mservice\u001b[49m\u001b[38;5;241;43m.\u001b[39;49m\u001b[43mwait_for_deployment\u001b[49m\u001b[43m(\u001b[49m\u001b[43m)\u001b[49m\n\u001b[0;32m      3\u001b[0m scoring_uri \u001b[38;5;241m=\u001b[39m service\u001b[38;5;241m.\u001b[39mscoring_uri\n\u001b[0;32m      5\u001b[0m scoreuri \u001b[38;5;241m=\u001b[39m json\u001b[38;5;241m.\u001b[39mdumps({\u001b[38;5;124m\"\u001b[39m\u001b[38;5;124mURI\u001b[39m\u001b[38;5;124m\"\u001b[39m: [scoring_uri]})\n",
      "File \u001b[1;32mc:\\Users\\rodri\\Documents\\Proyectos\\Cloud\\Clase2\\CLOUD-COMPUTING.Actividad-Semana-2\\.venv\\lib\\site-packages\\azureml\\core\\webservice\\webservice.py:910\u001b[0m, in \u001b[0;36mWebservice.wait_for_deployment\u001b[1;34m(self, show_output, timeout_sec)\u001b[0m\n\u001b[0;32m    907\u001b[0m         \u001b[38;5;28;01mif\u001b[39;00m \u001b[38;5;129;01mnot\u001b[39;00m logs_response:\n\u001b[0;32m    908\u001b[0m             logs_response \u001b[38;5;241m=\u001b[39m \u001b[38;5;124m'\u001b[39m\u001b[38;5;124mCurrent sub-operation type not known, more logs unavailable.\u001b[39m\u001b[38;5;124m'\u001b[39m\n\u001b[1;32m--> 910\u001b[0m         \u001b[38;5;28;01mraise\u001b[39;00m WebserviceException(\u001b[38;5;124m'\u001b[39m\u001b[38;5;124mService deployment polling reached non-successful terminal state, current \u001b[39m\u001b[38;5;124m'\u001b[39m\n\u001b[0;32m    911\u001b[0m                                   \u001b[38;5;124m'\u001b[39m\u001b[38;5;124mservice state: \u001b[39m\u001b[38;5;132;01m{}\u001b[39;00m\u001b[38;5;130;01m\\n\u001b[39;00m\u001b[38;5;124m'\u001b[39m\n\u001b[0;32m    912\u001b[0m                                   \u001b[38;5;124m'\u001b[39m\u001b[38;5;124mOperation ID: \u001b[39m\u001b[38;5;132;01m{}\u001b[39;00m\u001b[38;5;130;01m\\n\u001b[39;00m\u001b[38;5;124m'\u001b[39m\n\u001b[0;32m    913\u001b[0m                                   \u001b[38;5;124m'\u001b[39m\u001b[38;5;132;01m{}\u001b[39;00m\u001b[38;5;130;01m\\n\u001b[39;00m\u001b[38;5;124m'\u001b[39m\n\u001b[0;32m    914\u001b[0m                                   \u001b[38;5;124m'\u001b[39m\u001b[38;5;124mError:\u001b[39m\u001b[38;5;130;01m\\n\u001b[39;00m\u001b[38;5;124m'\u001b[39m\n\u001b[0;32m    915\u001b[0m                                   \u001b[38;5;124m'\u001b[39m\u001b[38;5;132;01m{}\u001b[39;00m\u001b[38;5;124m'\u001b[39m\u001b[38;5;241m.\u001b[39mformat(\u001b[38;5;28mself\u001b[39m\u001b[38;5;241m.\u001b[39mstate, \u001b[38;5;28mself\u001b[39m\u001b[38;5;241m.\u001b[39m_operation_endpoint\u001b[38;5;241m.\u001b[39msplit(\u001b[38;5;124m'\u001b[39m\u001b[38;5;124m/\u001b[39m\u001b[38;5;124m'\u001b[39m)[\u001b[38;5;241m-\u001b[39m\u001b[38;5;241m1\u001b[39m],\n\u001b[0;32m    916\u001b[0m                                               logs_response, format_error_response), logger\u001b[38;5;241m=\u001b[39mmodule_logger)\n\u001b[0;32m    917\u001b[0m     \u001b[38;5;28mprint\u001b[39m(\u001b[38;5;124m'\u001b[39m\u001b[38;5;132;01m{}\u001b[39;00m\u001b[38;5;124m service creation operation finished, operation \u001b[39m\u001b[38;5;124m\"\u001b[39m\u001b[38;5;132;01m{}\u001b[39;00m\u001b[38;5;124m\"\u001b[39m\u001b[38;5;124m'\u001b[39m\u001b[38;5;241m.\u001b[39mformat(\u001b[38;5;28mself\u001b[39m\u001b[38;5;241m.\u001b[39m_webservice_type,\n\u001b[0;32m    918\u001b[0m                                                                           operation_state))\n\u001b[0;32m    919\u001b[0m \u001b[38;5;28;01mexcept\u001b[39;00m WebserviceException \u001b[38;5;28;01mas\u001b[39;00m e:\n",
      "\u001b[1;31mWebserviceException\u001b[0m: WebserviceException:\n\tMessage: Service deployment polling reached non-successful terminal state, current service state: Unhealthy\nOperation ID: aeeecb87-125e-4e82-afc1-4648ff0596e5\nMore information can be found here: \nError:\n{\n  \"code\": \"EnvironmentBuildFailed\",\n  \"statusCode\": 400,\n  \"message\": \"Failed building the Environment. You can try debugging locally first. Please refer to https://aka.ms/debugimage#debug-locally for more information.\"\n}\n\tInnerException None\n\tErrorResponse \n{\n    \"error\": {\n        \"message\": \"Service deployment polling reached non-successful terminal state, current service state: Unhealthy\\nOperation ID: aeeecb87-125e-4e82-afc1-4648ff0596e5\\nMore information can be found here: \\nError:\\n{\\n  \\\"code\\\": \\\"EnvironmentBuildFailed\\\",\\n  \\\"statusCode\\\": 400,\\n  \\\"message\\\": \\\"Failed building the Environment. You can try debugging locally first. Please refer to https://aka.ms/debugimage#debug-locally for more information.\\\"\\n}\"\n    }\n}"
     ]
    }
   ],
   "source": [
    "service.wait_for_deployment()\n",
    "\n",
    "scoring_uri = service.scoring_uri\n",
    "\n",
    "scoreuri = json.dumps({\"URI\": [scoring_uri]})\n",
    "file = open(\"uri.json\", \"w\")\n",
    "file.write(scoreuri)\n",
    "file.close()"
   ]
  }
 ],
 "metadata": {
  "kernelspec": {
   "display_name": ".venv",
   "language": "python",
   "name": "python3"
  },
  "language_info": {
   "codemirror_mode": {
    "name": "ipython",
    "version": 3
   },
   "file_extension": ".py",
   "mimetype": "text/x-python",
   "codemirror_mode": {
    "name": "ipython",
    "version": 3
   },
   "file_extension": ".py",
   "mimetype": "text/x-python",
   "name": "python",
   "nbconvert_exporter": "python",
   "pygments_lexer": "ipython3",
   "version": "3.10.11"
  }
 },
 "nbformat": 4,
 "nbformat_minor": 2
}
