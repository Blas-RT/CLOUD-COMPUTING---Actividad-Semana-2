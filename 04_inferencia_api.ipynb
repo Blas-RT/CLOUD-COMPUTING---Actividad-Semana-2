{
 "cells": [
  {
   "cell_type": "code",
   "execution_count": null,
   "metadata": {},
   "outputs": [],
   "source": [
    "import pandas as pd\n",
    "\n",
    "#input_data = input(\"Introduce path for data\")\n",
    "data = pd.read_csv(\"prueba.csv\").drop([\"Unnamed: 0\"], axis=1)#(input_data)\n",
    "data_dict = data.to_dict(orient='list')"
   ]
  },
  {
   "cell_type": "code",
   "execution_count": null,
   "metadata": {},
   "outputs": [],
   "source": [
    "import json\n",
    "\n",
    "#Formateado para la API:\n",
    "data_json = json.dumps({\"data\": [data_dict]})\n",
    "\n",
    "suri = open(\"uri.json\", \"r\")\n",
    "scoring_uri = json.load(suri)[\"URI\"][0]\n",
    "suri.close()"
   ]
  },
  {
   "cell_type": "code",
   "execution_count": null,
   "metadata": {},
   "outputs": [],
   "source": [
    "import json\n",
    "\n",
    "#Formateado para la API:\n",
    "data_json = json.dumps({\"data\": [data_dict]})\n",
    "\n",
    "suri = open(\"uri.json\", \"r\")\n",
    "scoring_uri = json.load(suri)[\"URI\"][0]\n",
    "suri.close()\n",
    "## La API per-sé:\n",
    "\n",
    "headers = {\"Content-Type\": \"application/json\"}\n",
    "\n",
    "import requests\n",
    "response = requests.post(scoring_uri, data=data_json, headers=headers)\n",
    "\n",
    "if response.status_code == 200:\n",
    "  result = json.loads(response.json())\n",
    "  print(result)\n",
    "  data[\"Exited\"] = result\n",
    "  display(data)\n",
    "else:\n",
    "  print(f\"Error: {response.text}\")"
   ]
  }
 ],
 "metadata": {
  "language_info": {
   "name": "python"
  }
 },
 "nbformat": 4,
 "nbformat_minor": 2
}
