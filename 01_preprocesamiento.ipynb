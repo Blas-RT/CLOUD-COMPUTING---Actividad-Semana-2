{
 "cells": [
  {
   "cell_type": "markdown",
   "metadata": {},
   "source": [
    "# Preprocesamiento de Datos\n",
    "---\n",
    "El preprocesamiento de datos es una etapa crucial en el análisis de datos y aprendizaje automático. Consiste en preparar y limpiar los datos brutos para garantizar su calidad, eliminar inconsistencias, manejar valores faltantes y transformar las variables en formatos adecuados para su análisis o modelado. Esto mejora la precisión y eficiencia de los modelos predictivos."
   ]
  },
  {
   "cell_type": "markdown",
   "metadata": {},
   "source": [
    "### Importación de librerías"
   ]
  },
  {
   "cell_type": "code",
   "execution_count": null,
   "metadata": {
    "vscode": {
     "languageId": "plaintext"
    }
   },
   "outputs": [],
   "source": [
    "import kagglehub\n",
    "import pandas as pd\n",
    "import os"
   ]
  },
  {
   "cell_type": "markdown",
   "metadata": {},
   "source": [
    "### Descarga de dataset desde KaggleHub"
   ]
  },
  {
   "cell_type": "code",
   "execution_count": null,
   "metadata": {
    "vscode": {
     "languageId": "plaintext"
    }
   },
   "outputs": [],
   "source": [
    "print(\"Descargando dataset...\")\n",
    "path = kagglehub.dataset_download(\"fedesoriano/company-bankruptcy-prediction\")"
   ]
  },
  {
   "cell_type": "markdown",
   "metadata": {},
   "source": [
    "### Lectura del archivo de CSV"
   ]
  },
  {
   "cell_type": "code",
   "execution_count": null,
   "metadata": {
    "vscode": {
     "languageId": "plaintext"
    }
   },
   "outputs": [],
   "source": [
    "data_path = os.path.join(path, \"data.csv\")\n",
    "df = pd.read_csv(data_path)\n",
    "\n",
    "print(f\"Dataset cargado exitosamente. Dimensiones: {df.shape}\")\n",
    "df.head()"
   ]
  },
  {
   "cell_type": "code",
   "execution_count": null,
   "metadata": {
    "vscode": {
     "languageId": "plaintext"
    }
   },
   "outputs": [],
   "source": [
    "# Información general del dataset\n",
    "print(\"Resumen de columnas y tipos de datos:\")\n",
    "df.info()"
   ]
  },
  {
   "cell_type": "markdown",
   "metadata": {},
   "source": [
    "### Limpieza de Datos"
   ]
  },
  {
   "cell_type": "code",
   "execution_count": null,
   "metadata": {
    "vscode": {
     "languageId": "plaintext"
    }
   },
   "outputs": [],
   "source": [
    "# Eliminamos filas con valores nulos\n",
    "df_clean = df.dropna()\n",
    "\n",
    "print(f\"\\nDimensiones después de eliminar filas con nulos: {df_clean.shape}\")"
   ]
  },
  {
   "cell_type": "code",
   "execution_count": null,
   "metadata": {
    "vscode": {
     "languageId": "plaintext"
    }
   },
   "outputs": [],
   "source": [
    "# Verificamos balance de la variable objetivo\n",
    "print(\"Distribución de la variable objetivo (Bankrupt?):\")\n",
    "print(df_clean[\"Bankrupt?\"].value_counts(normalize=True))"
   ]
  },
  {
   "cell_type": "code",
   "execution_count": null,
   "metadata": {
    "vscode": {
     "languageId": "plaintext"
    }
   },
   "outputs": [],
   "source": [
    "# Guardamos el dataset limpio para uso posterior\n",
    "df_clean.to_csv(\"data_clean.csv\", index=False)\n",
    "print(\"\\nArchivo 'data_clean.csv' guardado correctamente.\")"
   ]
  }
 ],
 "metadata": {
  "language_info": {
   "name": "python"
  }
 },
 "nbformat": 4,
 "nbformat_minor": 2
}
