{
 "cells": [
  {
   "cell_type": "markdown",
   "metadata": {},
   "source": [
    "# Investigación de modelos ML\n",
    "\n",
    "Se busca predecir de clientes que dejarán o se quedarán siendo clientes de nuestra empresa bancaria.\n",
    "\n",
    "Trata de un problema de clasificación binaria.\n",
    "\n",
    "Departamento de modelos"
   ]
  },
  {
   "cell_type": "code",
   "execution_count": null,
   "metadata": {},
   "outputs": [],
   "source": []
  }
 ],
 "metadata": {
  "kernelspec": {
   "display_name": "cloud",
   "language": "python",
   "name": "python3"
  },
  "language_info": {
   "name": "python",
   "version": "3.10.11"
  }
 },
 "nbformat": 4,
 "nbformat_minor": 2
}
